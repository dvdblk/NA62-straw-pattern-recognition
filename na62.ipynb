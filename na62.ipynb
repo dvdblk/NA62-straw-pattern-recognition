{
 "cells": [
  {
   "cell_type": "code",
   "execution_count": 1,
   "id": "stable-blackjack",
   "metadata": {},
   "outputs": [],
   "source": [
    "import torch\n",
    "import pandas as pd\n",
    "import os\n",
    "import re\n",
    "from io import StringIO\n",
    "\n",
    "DATADIR=\"data/\""
   ]
  },
  {
   "cell_type": "code",
   "execution_count": 48,
   "id": "exact-warner",
   "metadata": {},
   "outputs": [],
   "source": [
    "def preprocess_data():\n",
    "    hits_file = open(os.path.join(DATADIR, \"hits.tsv\"), \"r\")\n",
    "    lines_file = open(os.path.join(DATADIR, \"lines.tsv\"), \"r\")\n",
    "    \n",
    "    parsing = True\n",
    "    \n",
    "    # Array of dataframes\n",
    "    hits_arr = []\n",
    "    lines_arr = []\n",
    "    \n",
    "    i = 0\n",
    "    \n",
    "    while True:\n",
    "        try:\n",
    "            # Get all hits \n",
    "            hits_i = next(hits_file)\n",
    "            hits_acc = \"\"\n",
    "\n",
    "            while hits_i != \"\\n\":\n",
    "                hits_acc += hits_i\n",
    "                hits_i = next(hits_file)\n",
    "\n",
    "            hits_df = pd.read_csv(\n",
    "                StringIO(hits_acc),\n",
    "                sep='\\t', \n",
    "                names=[\"ChannelID\", \"zGlob[mm]\", \"localPos[mm]\", \"Wire_dist1[mm]\", \"Wire_dist2[mm]\"]\n",
    "            )\n",
    "            \n",
    "            if hits_df.empty:\n",
    "                # Skip if there are no hits\n",
    "                continue\n",
    "                \n",
    "            # Get all lines\n",
    "            lines_i = next(lines_file)\n",
    "            lines_acc = \"\"\n",
    "\n",
    "            while lines_i != \"\\n\":\n",
    "                lines_acc += lines_i\n",
    "                lines_i = next(lines_file)\n",
    "\n",
    "            lines_df = pd.read_csv(\n",
    "                StringIO(lines_acc), \n",
    "                sep='\\t', \n",
    "                names=[\"Slope\", \"Intercept[mm]\"]\n",
    "            )\n",
    "            \n",
    "            hits_arr.append(hits_df)\n",
    "            lines_arr.append(lines_df)\n",
    "            \n",
    "            \n",
    "        except StopIteration:\n",
    "            print(\"Reached the end of file.\")\n",
    "            break\n",
    "            \n",
    "    hits_file.close()\n",
    "    lines_file.close()\n",
    "    \n",
    "    assert len(hits_arr) == len(lines_arr), \"The length of hits / lines arrays should be the same\"\n",
    "    \n",
    "    return hits_arr, lines_arr\n",
    "        "
   ]
  },
  {
   "cell_type": "code",
   "execution_count": 49,
   "id": "floppy-community",
   "metadata": {},
   "outputs": [
    {
     "name": "stdout",
     "output_type": "stream",
     "text": [
      "Reached the end of file.\n"
     ]
    }
   ],
   "source": [
    "hits_arr, lines_arr = preprocess_data()"
   ]
  },
  {
   "cell_type": "code",
   "execution_count": 54,
   "id": "infectious-silicon",
   "metadata": {
    "scrolled": true
   },
   "outputs": [
    {
     "data": {
      "text/html": [
       "<div>\n",
       "<style scoped>\n",
       "    .dataframe tbody tr th:only-of-type {\n",
       "        vertical-align: middle;\n",
       "    }\n",
       "\n",
       "    .dataframe tbody tr th {\n",
       "        vertical-align: top;\n",
       "    }\n",
       "\n",
       "    .dataframe thead th {\n",
       "        text-align: right;\n",
       "    }\n",
       "</style>\n",
       "<table border=\"1\" class=\"dataframe\">\n",
       "  <thead>\n",
       "    <tr style=\"text-align: right;\">\n",
       "      <th></th>\n",
       "      <th>ChannelID</th>\n",
       "      <th>zGlob[mm]</th>\n",
       "      <th>localPos[mm]</th>\n",
       "      <th>Wire_dist1[mm]</th>\n",
       "      <th>Wire_dist2[mm]</th>\n",
       "    </tr>\n",
       "  </thead>\n",
       "  <tbody>\n",
       "    <tr>\n",
       "      <th>0</th>\n",
       "      <td>2984</td>\n",
       "      <td>183587</td>\n",
       "      <td>166.9630</td>\n",
       "      <td>164.5350</td>\n",
       "      <td>169.3900</td>\n",
       "    </tr>\n",
       "    <tr>\n",
       "      <th>1</th>\n",
       "      <td>3152</td>\n",
       "      <td>183597</td>\n",
       "      <td>21.7376</td>\n",
       "      <td>20.3234</td>\n",
       "      <td>23.1518</td>\n",
       "    </tr>\n",
       "    <tr>\n",
       "      <th>2</th>\n",
       "      <td>3882</td>\n",
       "      <td>183641</td>\n",
       "      <td>165.9880</td>\n",
       "      <td>164.7910</td>\n",
       "      <td>167.1840</td>\n",
       "    </tr>\n",
       "    <tr>\n",
       "      <th>3</th>\n",
       "      <td>4050</td>\n",
       "      <td>183652</td>\n",
       "      <td>20.7624</td>\n",
       "      <td>20.1480</td>\n",
       "      <td>21.3768</td>\n",
       "    </tr>\n",
       "  </tbody>\n",
       "</table>\n",
       "</div>"
      ],
      "text/plain": [
       "   ChannelID  zGlob[mm]  localPos[mm]  Wire_dist1[mm]  Wire_dist2[mm]\n",
       "0       2984     183587      166.9630        164.5350        169.3900\n",
       "1       3152     183597       21.7376         20.3234         23.1518\n",
       "2       3882     183641      165.9880        164.7910        167.1840\n",
       "3       4050     183652       20.7624         20.1480         21.3768"
      ]
     },
     "execution_count": 54,
     "metadata": {},
     "output_type": "execute_result"
    }
   ],
   "source": [
    "hits_arr[5]"
   ]
  },
  {
   "cell_type": "code",
   "execution_count": null,
   "id": "violent-tactics",
   "metadata": {},
   "outputs": [],
   "source": []
  }
 ],
 "metadata": {
  "kernelspec": {
   "display_name": "Python 3",
   "language": "python",
   "name": "python3"
  },
  "language_info": {
   "codemirror_mode": {
    "name": "ipython",
    "version": 3
   },
   "file_extension": ".py",
   "mimetype": "text/x-python",
   "name": "python",
   "nbconvert_exporter": "python",
   "pygments_lexer": "ipython3",
   "version": "3.9.2"
  }
 },
 "nbformat": 4,
 "nbformat_minor": 5
}
